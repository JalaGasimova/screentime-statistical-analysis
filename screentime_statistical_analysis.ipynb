{
 "cells": [
  {
   "cell_type": "markdown",
   "id": "f608a8db-77ad-49d2-b997-aa7fdac38848",
   "metadata": {},
   "source": [
    " **STATISTICAL ANALYSIS**"
   ]
  },
  {
   "cell_type": "code",
   "execution_count": 2,
   "id": "56d8b4d8-9d11-4ea7-86cb-56e74fd568d0",
   "metadata": {},
   "outputs": [],
   "source": [
    "import pandas as pd\n",
    "import numpy as np"
   ]
  },
  {
   "cell_type": "code",
   "execution_count": 3,
   "id": "0f71b5d1-5d0a-48d1-ac41-f0c40339d494",
   "metadata": {},
   "outputs": [],
   "source": [
    "import matplotlib.pyplot as plt\n",
    "import seaborn as sns"
   ]
  },
  {
   "cell_type": "code",
   "execution_count": 4,
   "id": "ca455376-6f5e-4e11-a62f-2fd440655da1",
   "metadata": {},
   "outputs": [],
   "source": [
    "df=pd.read_excel(r'C:\\Users\\DELL\\Downloads\\Screentime.xlsx')"
   ]
  },
  {
   "cell_type": "code",
   "execution_count": 3,
   "id": "1ed50caf-1bf5-44be-b596-0ed245f6166d",
   "metadata": {},
   "outputs": [
    {
     "data": {
      "text/html": [
       "<div>\n",
       "<style scoped>\n",
       "    .dataframe tbody tr th:only-of-type {\n",
       "        vertical-align: middle;\n",
       "    }\n",
       "\n",
       "    .dataframe tbody tr th {\n",
       "        vertical-align: top;\n",
       "    }\n",
       "\n",
       "    .dataframe thead th {\n",
       "        text-align: right;\n",
       "    }\n",
       "</style>\n",
       "<table border=\"1\" class=\"dataframe\">\n",
       "  <thead>\n",
       "    <tr style=\"text-align: right;\">\n",
       "      <th></th>\n",
       "      <th>ID</th>\n",
       "      <th>Age Group</th>\n",
       "      <th>Gender</th>\n",
       "      <th>Education Level</th>\n",
       "      <th>Occupation</th>\n",
       "      <th>Average Screen Time</th>\n",
       "      <th>Device</th>\n",
       "      <th>Screen Activity</th>\n",
       "      <th>App Category</th>\n",
       "      <th>Screen Time Period</th>\n",
       "      <th>Environment</th>\n",
       "      <th>Productivity</th>\n",
       "      <th>Productivity rate</th>\n",
       "      <th>Attention Span</th>\n",
       "      <th>Work Strategy</th>\n",
       "      <th>Notification Handling</th>\n",
       "      <th>Usage of Productivity Apps</th>\n",
       "    </tr>\n",
       "  </thead>\n",
       "  <tbody>\n",
       "    <tr>\n",
       "      <th>0</th>\n",
       "      <td>0</td>\n",
       "      <td>18-24</td>\n",
       "      <td>Male</td>\n",
       "      <td>Undergraduate</td>\n",
       "      <td>Student</td>\n",
       "      <td>10</td>\n",
       "      <td>Smartphone</td>\n",
       "      <td>Entertainment (gaming, streaming, social media...</td>\n",
       "      <td>Social Media (e.g., Facebook, Instagram, Linke...</td>\n",
       "      <td>Evening (6 PM-10 PM)</td>\n",
       "      <td>Quite workplace</td>\n",
       "      <td>Moderately productive</td>\n",
       "      <td>2</td>\n",
       "      <td>10-30 minutes</td>\n",
       "      <td>Take regular breaks</td>\n",
       "      <td>Check them briefly and resume my work</td>\n",
       "      <td>Yes, but i did not find them of any help</td>\n",
       "    </tr>\n",
       "    <tr>\n",
       "      <th>1</th>\n",
       "      <td>1</td>\n",
       "      <td>18-24</td>\n",
       "      <td>Male</td>\n",
       "      <td>Undergraduate</td>\n",
       "      <td>Professional</td>\n",
       "      <td>8</td>\n",
       "      <td>Smartphone</td>\n",
       "      <td>Entertainment (gaming, streaming, social media...</td>\n",
       "      <td>Streaming (e.g., YouTube, Netflix)</td>\n",
       "      <td>Late night (10 PM-6 AM)</td>\n",
       "      <td>Quite workplace</td>\n",
       "      <td>Moderately productive</td>\n",
       "      <td>2</td>\n",
       "      <td>More than 1 hour</td>\n",
       "      <td>None, i prefer to work without any strategies</td>\n",
       "      <td>Ignore them until my task is completed</td>\n",
       "      <td>No, i do not use them</td>\n",
       "    </tr>\n",
       "    <tr>\n",
       "      <th>2</th>\n",
       "      <td>2</td>\n",
       "      <td>45 and above</td>\n",
       "      <td>Female</td>\n",
       "      <td>Graduate</td>\n",
       "      <td>Professional</td>\n",
       "      <td>6</td>\n",
       "      <td>Smartphone</td>\n",
       "      <td>Academic/Work-related</td>\n",
       "      <td>Social Media (e.g., Facebook, Instagram, Linke...</td>\n",
       "      <td>Afternoon (12 PM-6 PM)</td>\n",
       "      <td>I can work in any environment</td>\n",
       "      <td>Moderately productive</td>\n",
       "      <td>2</td>\n",
       "      <td>10-30 minutes</td>\n",
       "      <td>Take regular breaks</td>\n",
       "      <td>Check them briefly and resume my work</td>\n",
       "      <td>No, i do not use them</td>\n",
       "    </tr>\n",
       "    <tr>\n",
       "      <th>3</th>\n",
       "      <td>3</td>\n",
       "      <td>25-34</td>\n",
       "      <td>Male</td>\n",
       "      <td>Undergraduate</td>\n",
       "      <td>Professional</td>\n",
       "      <td>8</td>\n",
       "      <td>Laptop/PC</td>\n",
       "      <td>Academic/Work-related</td>\n",
       "      <td>Social Media (e.g., Facebook, Instagram, Linke...</td>\n",
       "      <td>Afternoon (12 PM-6 PM)</td>\n",
       "      <td>Quite workplace</td>\n",
       "      <td>Extremely productive, i efficiently complete m...</td>\n",
       "      <td>3</td>\n",
       "      <td>10-30 minutes</td>\n",
       "      <td>None, i prefer to work without any strategies</td>\n",
       "      <td>Ignore them until my task is completed</td>\n",
       "      <td>No, i do not use them</td>\n",
       "    </tr>\n",
       "    <tr>\n",
       "      <th>4</th>\n",
       "      <td>4</td>\n",
       "      <td>45 and above</td>\n",
       "      <td>Male</td>\n",
       "      <td>Graduate</td>\n",
       "      <td>Professional</td>\n",
       "      <td>8</td>\n",
       "      <td>Laptop/PC</td>\n",
       "      <td>Academic/Work-related</td>\n",
       "      <td>Productivity (e.g., Microsoft Office, Notion)</td>\n",
       "      <td>Afternoon (12 PM-6 PM)</td>\n",
       "      <td>I can work in any environment</td>\n",
       "      <td>Extremely productive, i efficiently complete m...</td>\n",
       "      <td>3</td>\n",
       "      <td>30-60 minutes</td>\n",
       "      <td>None, i prefer to work without any strategies</td>\n",
       "      <td>Check them briefly and resume my work</td>\n",
       "      <td>No, i do not use them</td>\n",
       "    </tr>\n",
       "    <tr>\n",
       "      <th>5</th>\n",
       "      <td>5</td>\n",
       "      <td>Below 18</td>\n",
       "      <td>Female</td>\n",
       "      <td>High school or below</td>\n",
       "      <td>Student</td>\n",
       "      <td>6</td>\n",
       "      <td>Smartphone</td>\n",
       "      <td>Entertainment (gaming, streaming, social media...</td>\n",
       "      <td>Streaming (e.g., YouTube, Netflix)</td>\n",
       "      <td>Evening (6 PM-10 PM)</td>\n",
       "      <td>Quite workplace</td>\n",
       "      <td>Moderately productive</td>\n",
       "      <td>2</td>\n",
       "      <td>10-30 minutes</td>\n",
       "      <td>None, i prefer to work without any strategies</td>\n",
       "      <td>Check them briefly and resume my work</td>\n",
       "      <td>No, i do not use them</td>\n",
       "    </tr>\n",
       "    <tr>\n",
       "      <th>6</th>\n",
       "      <td>6</td>\n",
       "      <td>35-44</td>\n",
       "      <td>Male</td>\n",
       "      <td>Graduate</td>\n",
       "      <td>Professional</td>\n",
       "      <td>8</td>\n",
       "      <td>Laptop/PC</td>\n",
       "      <td>Academic/Work-related</td>\n",
       "      <td>Productivity (e.g., Microsoft Office, Notion)</td>\n",
       "      <td>Evening (6 PM-10 PM)</td>\n",
       "      <td>Quite workplace</td>\n",
       "      <td>Moderately productive</td>\n",
       "      <td>2</td>\n",
       "      <td>10-30 minutes</td>\n",
       "      <td>Eliminate all distractions</td>\n",
       "      <td>Turn off notifications altogether</td>\n",
       "      <td>No, i do not use them</td>\n",
       "    </tr>\n",
       "    <tr>\n",
       "      <th>7</th>\n",
       "      <td>7</td>\n",
       "      <td>18-24</td>\n",
       "      <td>Female</td>\n",
       "      <td>Undergraduate</td>\n",
       "      <td>Student</td>\n",
       "      <td>8</td>\n",
       "      <td>Smartphone</td>\n",
       "      <td>Entertainment (gaming, streaming, social media...</td>\n",
       "      <td>Social Media (e.g., Facebook, Instagram, Linke...</td>\n",
       "      <td>Evening (6 PM-10 PM)</td>\n",
       "      <td>Collaborative/team setting</td>\n",
       "      <td>Unproductive, i might not have completed the t...</td>\n",
       "      <td>1</td>\n",
       "      <td>10-30 minutes</td>\n",
       "      <td>Eliminate all distractions</td>\n",
       "      <td>Check them briefly and resume my work</td>\n",
       "      <td>No, i do not use them</td>\n",
       "    </tr>\n",
       "    <tr>\n",
       "      <th>8</th>\n",
       "      <td>8</td>\n",
       "      <td>Below 18</td>\n",
       "      <td>Male</td>\n",
       "      <td>High school or below</td>\n",
       "      <td>Student</td>\n",
       "      <td>10</td>\n",
       "      <td>Smartphone</td>\n",
       "      <td>Entertainment (gaming, streaming, social media...</td>\n",
       "      <td>Social Media (e.g., Facebook, Instagram, Linke...</td>\n",
       "      <td>Late night (10 PM-6 AM)</td>\n",
       "      <td>Quite workplace</td>\n",
       "      <td>Extremely productive, i efficiently complete m...</td>\n",
       "      <td>3</td>\n",
       "      <td>More than 1 hour</td>\n",
       "      <td>Take regular breaks</td>\n",
       "      <td>Check them briefly and resume my work</td>\n",
       "      <td>No, i do not use them</td>\n",
       "    </tr>\n",
       "    <tr>\n",
       "      <th>9</th>\n",
       "      <td>9</td>\n",
       "      <td>Below 18</td>\n",
       "      <td>Male</td>\n",
       "      <td>Undergraduate</td>\n",
       "      <td>Student</td>\n",
       "      <td>8</td>\n",
       "      <td>Laptop/PC</td>\n",
       "      <td>Entertainment (gaming, streaming, social media...</td>\n",
       "      <td>Social Media (e.g., Facebook, Instagram, Linke...</td>\n",
       "      <td>Late night (10 PM-6 AM)</td>\n",
       "      <td>Quite workplace</td>\n",
       "      <td>Moderately productive</td>\n",
       "      <td>2</td>\n",
       "      <td>30-60 minutes</td>\n",
       "      <td>None, i prefer to work without any strategies</td>\n",
       "      <td>Turn off notifications altogether</td>\n",
       "      <td>No, i do not use them</td>\n",
       "    </tr>\n",
       "    <tr>\n",
       "      <th>10</th>\n",
       "      <td>10</td>\n",
       "      <td>Below 18</td>\n",
       "      <td>Male</td>\n",
       "      <td>Undergraduate</td>\n",
       "      <td>Student</td>\n",
       "      <td>8</td>\n",
       "      <td>Laptop/PC</td>\n",
       "      <td>Entertainment (gaming, streaming, social media...</td>\n",
       "      <td>Social Media (e.g., Facebook, Instagram, Linke...</td>\n",
       "      <td>Late night (10 PM-6 AM)</td>\n",
       "      <td>Quite workplace</td>\n",
       "      <td>Moderately productive</td>\n",
       "      <td>2</td>\n",
       "      <td>30-60 minutes</td>\n",
       "      <td>None, i prefer to work without any strategies</td>\n",
       "      <td>Turn off notifications altogether</td>\n",
       "      <td>No, i do not use them</td>\n",
       "    </tr>\n",
       "    <tr>\n",
       "      <th>11</th>\n",
       "      <td>11</td>\n",
       "      <td>18-24</td>\n",
       "      <td>Female</td>\n",
       "      <td>Undergraduate</td>\n",
       "      <td>Student</td>\n",
       "      <td>8</td>\n",
       "      <td>Smartphone</td>\n",
       "      <td>Entertainment (gaming, streaming, social media...</td>\n",
       "      <td>Streaming (e.g., YouTube, Netflix)</td>\n",
       "      <td>Afternoon (12 PM-6 PM)</td>\n",
       "      <td>Quite workplace</td>\n",
       "      <td>Unproductive, i might not have completed the t...</td>\n",
       "      <td>1</td>\n",
       "      <td>Less than 10 minutes</td>\n",
       "      <td>None, i prefer to work without any strategies</td>\n",
       "      <td>Spend time interacting with the notifications</td>\n",
       "      <td>No, i do not use them</td>\n",
       "    </tr>\n",
       "    <tr>\n",
       "      <th>12</th>\n",
       "      <td>12</td>\n",
       "      <td>18-24</td>\n",
       "      <td>Male</td>\n",
       "      <td>Undergraduate</td>\n",
       "      <td>Professional</td>\n",
       "      <td>6</td>\n",
       "      <td>Laptop/PC</td>\n",
       "      <td>Academic/Work-related</td>\n",
       "      <td>Productivity (e.g., Microsoft Office, Notion)</td>\n",
       "      <td>Late night (10 PM-6 AM)</td>\n",
       "      <td>Quite workplace</td>\n",
       "      <td>Moderately productive</td>\n",
       "      <td>2</td>\n",
       "      <td>More than 1 hour</td>\n",
       "      <td>None, i prefer to work without any strategies</td>\n",
       "      <td>Ignore them until my task is completed</td>\n",
       "      <td>No, i do not use them</td>\n",
       "    </tr>\n",
       "    <tr>\n",
       "      <th>13</th>\n",
       "      <td>13</td>\n",
       "      <td>Below 18</td>\n",
       "      <td>Female</td>\n",
       "      <td>High school or below</td>\n",
       "      <td>Student</td>\n",
       "      <td>8</td>\n",
       "      <td>Smartphone</td>\n",
       "      <td>Entertainment (gaming, streaming, social media...</td>\n",
       "      <td>Social Media (e.g., Facebook, Instagram, Linke...</td>\n",
       "      <td>Evening (6 PM-10 PM)</td>\n",
       "      <td>I can work in any environment</td>\n",
       "      <td>Unproductive, i might not have completed the t...</td>\n",
       "      <td>1</td>\n",
       "      <td>Less than 10 minutes</td>\n",
       "      <td>None, i prefer to work without any strategies</td>\n",
       "      <td>Check them briefly and resume my work</td>\n",
       "      <td>No, i do not use them</td>\n",
       "    </tr>\n",
       "    <tr>\n",
       "      <th>14</th>\n",
       "      <td>14</td>\n",
       "      <td>18-24</td>\n",
       "      <td>Male</td>\n",
       "      <td>Undergraduate</td>\n",
       "      <td>Student</td>\n",
       "      <td>6</td>\n",
       "      <td>Laptop/PC</td>\n",
       "      <td>Academic/Work-related</td>\n",
       "      <td>Productivity (e.g., Microsoft Office, Notion)</td>\n",
       "      <td>Evening (6 PM-10 PM)</td>\n",
       "      <td>Quite workplace</td>\n",
       "      <td>Moderately productive</td>\n",
       "      <td>2</td>\n",
       "      <td>10-30 minutes</td>\n",
       "      <td>Take regular breaks</td>\n",
       "      <td>Spend time interacting with the notifications</td>\n",
       "      <td>Yes, they are extremely helpful</td>\n",
       "    </tr>\n",
       "  </tbody>\n",
       "</table>\n",
       "</div>"
      ],
      "text/plain": [
       "    ID     Age Group  Gender       Education Level    Occupation  \\\n",
       "0    0         18-24    Male         Undergraduate       Student   \n",
       "1    1         18-24    Male         Undergraduate  Professional   \n",
       "2    2  45 and above  Female              Graduate  Professional   \n",
       "3    3         25-34    Male         Undergraduate  Professional   \n",
       "4    4  45 and above    Male              Graduate  Professional   \n",
       "5    5      Below 18  Female  High school or below       Student   \n",
       "6    6         35-44    Male              Graduate  Professional   \n",
       "7    7         18-24  Female         Undergraduate       Student   \n",
       "8    8      Below 18    Male  High school or below       Student   \n",
       "9    9      Below 18    Male         Undergraduate       Student   \n",
       "10  10      Below 18    Male         Undergraduate       Student   \n",
       "11  11         18-24  Female         Undergraduate       Student   \n",
       "12  12         18-24    Male         Undergraduate  Professional   \n",
       "13  13      Below 18  Female  High school or below       Student   \n",
       "14  14         18-24    Male         Undergraduate       Student   \n",
       "\n",
       "    Average Screen Time      Device  \\\n",
       "0                    10  Smartphone   \n",
       "1                     8  Smartphone   \n",
       "2                     6  Smartphone   \n",
       "3                     8   Laptop/PC   \n",
       "4                     8   Laptop/PC   \n",
       "5                     6  Smartphone   \n",
       "6                     8   Laptop/PC   \n",
       "7                     8  Smartphone   \n",
       "8                    10  Smartphone   \n",
       "9                     8   Laptop/PC   \n",
       "10                    8   Laptop/PC   \n",
       "11                    8  Smartphone   \n",
       "12                    6   Laptop/PC   \n",
       "13                    8  Smartphone   \n",
       "14                    6   Laptop/PC   \n",
       "\n",
       "                                      Screen Activity  \\\n",
       "0   Entertainment (gaming, streaming, social media...   \n",
       "1   Entertainment (gaming, streaming, social media...   \n",
       "2                               Academic/Work-related   \n",
       "3                               Academic/Work-related   \n",
       "4                               Academic/Work-related   \n",
       "5   Entertainment (gaming, streaming, social media...   \n",
       "6                               Academic/Work-related   \n",
       "7   Entertainment (gaming, streaming, social media...   \n",
       "8   Entertainment (gaming, streaming, social media...   \n",
       "9   Entertainment (gaming, streaming, social media...   \n",
       "10  Entertainment (gaming, streaming, social media...   \n",
       "11  Entertainment (gaming, streaming, social media...   \n",
       "12                              Academic/Work-related   \n",
       "13  Entertainment (gaming, streaming, social media...   \n",
       "14                              Academic/Work-related   \n",
       "\n",
       "                                         App Category  \\\n",
       "0   Social Media (e.g., Facebook, Instagram, Linke...   \n",
       "1                  Streaming (e.g., YouTube, Netflix)   \n",
       "2   Social Media (e.g., Facebook, Instagram, Linke...   \n",
       "3   Social Media (e.g., Facebook, Instagram, Linke...   \n",
       "4       Productivity (e.g., Microsoft Office, Notion)   \n",
       "5                  Streaming (e.g., YouTube, Netflix)   \n",
       "6       Productivity (e.g., Microsoft Office, Notion)   \n",
       "7   Social Media (e.g., Facebook, Instagram, Linke...   \n",
       "8   Social Media (e.g., Facebook, Instagram, Linke...   \n",
       "9   Social Media (e.g., Facebook, Instagram, Linke...   \n",
       "10  Social Media (e.g., Facebook, Instagram, Linke...   \n",
       "11                 Streaming (e.g., YouTube, Netflix)   \n",
       "12      Productivity (e.g., Microsoft Office, Notion)   \n",
       "13  Social Media (e.g., Facebook, Instagram, Linke...   \n",
       "14      Productivity (e.g., Microsoft Office, Notion)   \n",
       "\n",
       "         Screen Time Period                    Environment  \\\n",
       "0      Evening (6 PM-10 PM)                Quite workplace   \n",
       "1   Late night (10 PM-6 AM)                Quite workplace   \n",
       "2    Afternoon (12 PM-6 PM)  I can work in any environment   \n",
       "3    Afternoon (12 PM-6 PM)                Quite workplace   \n",
       "4    Afternoon (12 PM-6 PM)  I can work in any environment   \n",
       "5      Evening (6 PM-10 PM)                Quite workplace   \n",
       "6      Evening (6 PM-10 PM)                Quite workplace   \n",
       "7      Evening (6 PM-10 PM)     Collaborative/team setting   \n",
       "8   Late night (10 PM-6 AM)                Quite workplace   \n",
       "9   Late night (10 PM-6 AM)                Quite workplace   \n",
       "10  Late night (10 PM-6 AM)                Quite workplace   \n",
       "11   Afternoon (12 PM-6 PM)                Quite workplace   \n",
       "12  Late night (10 PM-6 AM)                Quite workplace   \n",
       "13     Evening (6 PM-10 PM)  I can work in any environment   \n",
       "14     Evening (6 PM-10 PM)                Quite workplace   \n",
       "\n",
       "                                         Productivity  Productivity rate  \\\n",
       "0                               Moderately productive                  2   \n",
       "1                               Moderately productive                  2   \n",
       "2                               Moderately productive                  2   \n",
       "3   Extremely productive, i efficiently complete m...                  3   \n",
       "4   Extremely productive, i efficiently complete m...                  3   \n",
       "5                               Moderately productive                  2   \n",
       "6                               Moderately productive                  2   \n",
       "7   Unproductive, i might not have completed the t...                  1   \n",
       "8   Extremely productive, i efficiently complete m...                  3   \n",
       "9                               Moderately productive                  2   \n",
       "10                              Moderately productive                  2   \n",
       "11  Unproductive, i might not have completed the t...                  1   \n",
       "12                              Moderately productive                  2   \n",
       "13  Unproductive, i might not have completed the t...                  1   \n",
       "14                              Moderately productive                  2   \n",
       "\n",
       "          Attention Span                                  Work Strategy  \\\n",
       "0          10-30 minutes                            Take regular breaks   \n",
       "1       More than 1 hour  None, i prefer to work without any strategies   \n",
       "2          10-30 minutes                            Take regular breaks   \n",
       "3          10-30 minutes  None, i prefer to work without any strategies   \n",
       "4          30-60 minutes  None, i prefer to work without any strategies   \n",
       "5          10-30 minutes  None, i prefer to work without any strategies   \n",
       "6          10-30 minutes                     Eliminate all distractions   \n",
       "7          10-30 minutes                     Eliminate all distractions   \n",
       "8       More than 1 hour                            Take regular breaks   \n",
       "9          30-60 minutes  None, i prefer to work without any strategies   \n",
       "10         30-60 minutes  None, i prefer to work without any strategies   \n",
       "11  Less than 10 minutes  None, i prefer to work without any strategies   \n",
       "12      More than 1 hour  None, i prefer to work without any strategies   \n",
       "13  Less than 10 minutes  None, i prefer to work without any strategies   \n",
       "14         10-30 minutes                            Take regular breaks   \n",
       "\n",
       "                            Notification Handling  \\\n",
       "0           Check them briefly and resume my work   \n",
       "1          Ignore them until my task is completed   \n",
       "2           Check them briefly and resume my work   \n",
       "3          Ignore them until my task is completed   \n",
       "4           Check them briefly and resume my work   \n",
       "5           Check them briefly and resume my work   \n",
       "6               Turn off notifications altogether   \n",
       "7           Check them briefly and resume my work   \n",
       "8           Check them briefly and resume my work   \n",
       "9               Turn off notifications altogether   \n",
       "10              Turn off notifications altogether   \n",
       "11  Spend time interacting with the notifications   \n",
       "12         Ignore them until my task is completed   \n",
       "13          Check them briefly and resume my work   \n",
       "14  Spend time interacting with the notifications   \n",
       "\n",
       "                  Usage of Productivity Apps  \n",
       "0   Yes, but i did not find them of any help  \n",
       "1                      No, i do not use them  \n",
       "2                      No, i do not use them  \n",
       "3                      No, i do not use them  \n",
       "4                      No, i do not use them  \n",
       "5                      No, i do not use them  \n",
       "6                      No, i do not use them  \n",
       "7                      No, i do not use them  \n",
       "8                      No, i do not use them  \n",
       "9                      No, i do not use them  \n",
       "10                     No, i do not use them  \n",
       "11                     No, i do not use them  \n",
       "12                     No, i do not use them  \n",
       "13                     No, i do not use them  \n",
       "14           Yes, they are extremely helpful  "
      ]
     },
     "execution_count": 3,
     "metadata": {},
     "output_type": "execute_result"
    }
   ],
   "source": [
    "df.head(15)"
   ]
  },
  {
   "cell_type": "code",
   "execution_count": 4,
   "id": "3e68b8b9-3ced-46ef-96f7-20e2b2c6e66e",
   "metadata": {},
   "outputs": [
    {
     "data": {
      "text/plain": [
       "(200, 17)"
      ]
     },
     "execution_count": 4,
     "metadata": {},
     "output_type": "execute_result"
    }
   ],
   "source": [
    "df.shape"
   ]
  },
  {
   "cell_type": "code",
   "execution_count": 10,
   "id": "1ec51730-d095-4688-92e7-79f09e53143c",
   "metadata": {},
   "outputs": [
    {
     "name": "stdout",
     "output_type": "stream",
     "text": [
      "ID                             int64\n",
      "Age Group                     object\n",
      "Gender                        object\n",
      "Education Level               object\n",
      "Occupation                    object\n",
      "Average Screen Time            int64\n",
      "Device                        object\n",
      "Screen Activity               object\n",
      "App Category                  object\n",
      "Screen Time Period            object\n",
      "Environment                   object\n",
      "Productivity                  object\n",
      "Productivity rate              int64\n",
      "Attention Span                object\n",
      "Work Strategy                 object\n",
      "Notification Handling         object\n",
      "Usage of Productivity Apps    object\n",
      "dtype: object\n",
      "\n",
      "\n"
     ]
    }
   ],
   "source": [
    "print(df.dtypes)\n",
    "print(\"\\n\")"
   ]
  },
  {
   "cell_type": "markdown",
   "id": "912b3396-b417-4380-81b8-7eafce025607",
   "metadata": {},
   "source": [
    "**Descriptive analysis**"
   ]
  },
  {
   "cell_type": "markdown",
   "id": "3d154e0a-4caf-4433-8cca-400b2ad0b38b",
   "metadata": {},
   "source": [
    "Əsas statistikalara baxırıq"
   ]
  },
  {
   "cell_type": "code",
   "execution_count": 12,
   "id": "1980c6c7-9b96-4596-9690-01ff12335365",
   "metadata": {},
   "outputs": [
    {
     "data": {
      "text/html": [
       "<div>\n",
       "<style scoped>\n",
       "    .dataframe tbody tr th:only-of-type {\n",
       "        vertical-align: middle;\n",
       "    }\n",
       "\n",
       "    .dataframe tbody tr th {\n",
       "        vertical-align: top;\n",
       "    }\n",
       "\n",
       "    .dataframe thead th {\n",
       "        text-align: right;\n",
       "    }\n",
       "</style>\n",
       "<table border=\"1\" class=\"dataframe\">\n",
       "  <thead>\n",
       "    <tr style=\"text-align: right;\">\n",
       "      <th></th>\n",
       "      <th>ID</th>\n",
       "      <th>Average Screen Time</th>\n",
       "      <th>Productivity rate</th>\n",
       "    </tr>\n",
       "  </thead>\n",
       "  <tbody>\n",
       "    <tr>\n",
       "      <th>count</th>\n",
       "      <td>200.000000</td>\n",
       "      <td>200.000000</td>\n",
       "      <td>200.000000</td>\n",
       "    </tr>\n",
       "    <tr>\n",
       "      <th>mean</th>\n",
       "      <td>99.500000</td>\n",
       "      <td>7.330000</td>\n",
       "      <td>2.085000</td>\n",
       "    </tr>\n",
       "    <tr>\n",
       "      <th>std</th>\n",
       "      <td>57.879185</td>\n",
       "      <td>1.773932</td>\n",
       "      <td>0.678289</td>\n",
       "    </tr>\n",
       "    <tr>\n",
       "      <th>min</th>\n",
       "      <td>0.000000</td>\n",
       "      <td>2.000000</td>\n",
       "      <td>1.000000</td>\n",
       "    </tr>\n",
       "    <tr>\n",
       "      <th>25%</th>\n",
       "      <td>49.750000</td>\n",
       "      <td>6.000000</td>\n",
       "      <td>2.000000</td>\n",
       "    </tr>\n",
       "    <tr>\n",
       "      <th>50%</th>\n",
       "      <td>99.500000</td>\n",
       "      <td>8.000000</td>\n",
       "      <td>2.000000</td>\n",
       "    </tr>\n",
       "    <tr>\n",
       "      <th>75%</th>\n",
       "      <td>149.250000</td>\n",
       "      <td>8.000000</td>\n",
       "      <td>3.000000</td>\n",
       "    </tr>\n",
       "    <tr>\n",
       "      <th>max</th>\n",
       "      <td>199.000000</td>\n",
       "      <td>10.000000</td>\n",
       "      <td>3.000000</td>\n",
       "    </tr>\n",
       "  </tbody>\n",
       "</table>\n",
       "</div>"
      ],
      "text/plain": [
       "               ID  Average Screen Time  Productivity rate\n",
       "count  200.000000           200.000000         200.000000\n",
       "mean    99.500000             7.330000           2.085000\n",
       "std     57.879185             1.773932           0.678289\n",
       "min      0.000000             2.000000           1.000000\n",
       "25%     49.750000             6.000000           2.000000\n",
       "50%     99.500000             8.000000           2.000000\n",
       "75%    149.250000             8.000000           3.000000\n",
       "max    199.000000            10.000000           3.000000"
      ]
     },
     "execution_count": 12,
     "metadata": {},
     "output_type": "execute_result"
    }
   ],
   "source": [
    "df.describe()"
   ]
  },
  {
   "attachments": {},
   "cell_type": "markdown",
   "id": "56e85743-e758-4d4f-ae79-e73f6b1ac865",
   "metadata": {},
   "source": [
    "1. Average screen time for each age group"
   ]
  },
  {
   "cell_type": "code",
   "execution_count": 46,
   "id": "c9ef3809-167a-448b-96d2-3170cd2daabc",
   "metadata": {},
   "outputs": [
    {
     "data": {
      "text/plain": [
       "Age Group\n",
       "18-24           7.41\n",
       "25-34           8.00\n",
       "35-44           7.40\n",
       "45 and above    7.33\n",
       "Below 18        6.53\n",
       "Name: Average Screen Time, dtype: float64"
      ]
     },
     "execution_count": 46,
     "metadata": {},
     "output_type": "execute_result"
    }
   ],
   "source": [
    "df.groupby('Age Group')['Average Screen Time'].mean().round(2)"
   ]
  },
  {
   "cell_type": "markdown",
   "id": "ae578ccd-1c4a-461f-a330-37b7579ce3c1",
   "metadata": {},
   "source": [
    "2. Average productivity by gender"
   ]
  },
  {
   "cell_type": "code",
   "execution_count": 47,
   "id": "278e63fd-ccf4-4df2-98a1-ec5c367e7d98",
   "metadata": {},
   "outputs": [
    {
     "data": {
      "text/plain": [
       "Gender\n",
       "Female    1.96\n",
       "Male      2.15\n",
       "Name: Productivity rate, dtype: float64"
      ]
     },
     "execution_count": 47,
     "metadata": {},
     "output_type": "execute_result"
    }
   ],
   "source": [
    "df.groupby('Gender')['Productivity rate'].mean().round(2)"
   ]
  },
  {
   "cell_type": "code",
   "execution_count": 45,
   "id": "dcaf8958-358e-45cc-a875-dfdfd9979635",
   "metadata": {},
   "outputs": [
    {
     "name": "stdout",
     "output_type": "stream",
     "text": [
      "\n",
      "\n"
     ]
    }
   ],
   "source": [
    "print(\"\\n\")"
   ]
  },
  {
   "cell_type": "markdown",
   "id": "28d48cf6-3c9f-4b6f-a18b-bc8776157220",
   "metadata": {},
   "source": [
    "3. Minimum,maximum,median screen time"
   ]
  },
  {
   "cell_type": "code",
   "execution_count": 51,
   "id": "2deb4a01-3bbe-46b4-b91b-5025d3731225",
   "metadata": {},
   "outputs": [
    {
     "name": "stdout",
     "output_type": "stream",
     "text": [
      "Minimum screen time:2\n",
      "Maximum screen time:10\n",
      "Median of screen time:8.0\n",
      "\n",
      "\n"
     ]
    }
   ],
   "source": [
    "print(f\"Minimum screen time:{df['Average Screen Time'].min()}\")\n",
    "print(f\"Maximum screen time:{df['Average Screen Time'].max()}\")\n",
    "print(f\"Median of screen time:{df['Average Screen Time'].median()}\")\n",
    "print(\"\\n\")"
   ]
  },
  {
   "cell_type": "markdown",
   "id": "85b404f0-f834-4009-bf32-c247bee1a804",
   "metadata": {},
   "source": [
    "**Distribution Analysis**"
   ]
  },
  {
   "cell_type": "code",
   "execution_count": 38,
   "id": "d4d2b014-9400-41d1-ae18-95df038f5b81",
   "metadata": {},
   "outputs": [
    {
     "data": {
      "image/png": "[encoded data removed]",
      "text/plain": [
       "<Figure size 800x500 with 1 Axes>"
      ]
     },
     "metadata": {},
     "output_type": "display_data"
    },
    {
     "name": "stdout",
     "output_type": "stream",
     "text": [
      "\n",
      "\n"
     ]
    }
   ],
   "source": [
    "#Average screen time paylanmasına baxırıq\n",
    "plt.figure(figsize=(8,5))\n",
    "sns.histplot(df[\"Average Screen Time\"],bins=20,kde=True,color=\"skyblue\",edgecolor=\"black\")\n",
    "plt.title(\"Screen Time Distribution\",fontsize=18)\n",
    "plt.xlabel(\"Screen Time(hours)\",fontsize=12)\n",
    "plt.ylabel(\"Number of observations\",fontsize=12)\n",
    "plt.show()\n",
    "print(\"\\n\")"
   ]
  },
  {
   "cell_type": "markdown",
   "id": "d14b8093-5b07-40d7-a157-aae2c1d77714",
   "metadata": {},
   "source": [
    "Average screen time üzrə outlier dəyərlərə baxaq"
   ]
  },
  {
   "cell_type": "code",
   "execution_count": 39,
   "id": "dc3150ea-caf8-4ab4-8e45-8ab0b85c24cd",
   "metadata": {},
   "outputs": [
    {
     "data": {
      "image/png": "[encoded data removed]",
      "text/plain": [
       "<Figure size 800x500 with 1 Axes>"
      ]
     },
     "metadata": {},
     "output_type": "display_data"
    },
    {
     "name": "stdout",
     "output_type": "stream",
     "text": [
      "\n",
      "\n"
     ]
    }
   ],
   "source": [
    "#boxplot qururuq\n",
    "plt.figure(figsize=(8,5))\n",
    "sns.boxplot(x=df['Average Screen Time'],color=\"skyblue\")\n",
    "plt.title(\"Screen Time Distribution with Outliers\")\n",
    "plt.xlabel(\"Screen Time(hours)\")\n",
    "plt.show()\n",
    "print(\"\\n\")"
   ]
  },
  {
   "cell_type": "markdown",
   "id": "860e43e2-752a-4ab8-a922-6577eda18f13",
   "metadata": {},
   "source": [
    "**Correlation analysis**"
   ]
  },
  {
   "cell_type": "markdown",
   "id": "a79338b3-5f8c-43f5-bbe9-0b668eb6a448",
   "metadata": {},
   "source": [
    "1. Average screen time -> productivity"
   ]
  },
  {
   "cell_type": "code",
   "execution_count": 37,
   "id": "9661ae66-b75a-4f09-9831-69fff389643b",
   "metadata": {},
   "outputs": [
    {
     "name": "stdout",
     "output_type": "stream",
     "text": [
      "Correlation between average screen time and productivity: 0.014157781249201879 \n",
      "\n"
     ]
    }
   ],
   "source": [
    "# Korelyasiya dəyəri\n",
    "# <1,yəni neqativ korelyasiya; >1,yəni pozitiv korelyasiya; =1 isə korelyasiya yoxdur\n",
    "correlation = df['Average Screen Time'].corr(df['Productivity rate'])\n",
    "print(\"Correlation between average screen time and productivity:\", correlation,\"\\n\")"
   ]
  },
  {
   "cell_type": "code",
   "execution_count": 40,
   "id": "7fa4d719-8539-4d0c-8f34-fcc57010215d",
   "metadata": {},
   "outputs": [
    {
     "data": {
      "image/png": "[encoded data removed]",
      "text/plain": [
       "<Figure size 640x480 with 1 Axes>"
      ]
     },
     "metadata": {},
     "output_type": "display_data"
    }
   ],
   "source": [
    "#scatter plot\n",
    "sns.scatterplot(x='Average Screen Time', y='Productivity rate', data=df)\n",
    "plt.title('Screen Time vs Productivity')\n",
    "plt.xlabel('Average Screen Time (hours)')\n",
    "plt.ylabel('Productivity')\n",
    "plt.show()"
   ]
  },
  {
   "cell_type": "markdown",
   "id": "2057c360-52c8-4e8b-bb92-cdce7385611c",
   "metadata": {},
   "source": [
    "Numeric dəyərlər arasında korelyasiyanın heatmap-lə göstərilməsi"
   ]
  },
  {
   "cell_type": "code",
   "execution_count": 41,
   "id": "92297cf8-b0d0-418a-9252-eb16d229be4c",
   "metadata": {},
   "outputs": [
    {
     "data": {
      "image/png": "[encoded data removed]",
      "text/plain": [
       "<Figure size 1200x800 with 2 Axes>"
      ]
     },
     "metadata": {},
     "output_type": "display_data"
    }
   ],
   "source": [
    "# Korelyasiya cədvəli\n",
    "corr = df.corr(numeric_only=True)\n",
    "\n",
    "plt.figure(figsize=(12,8))\n",
    "sns.heatmap(\n",
    "    corr,\n",
    "    annot=True,        # rəqəmləri yazır\n",
    "    fmt=\".2f\",         # 2 onluq\n",
    "    cmap=\"coolwarm\",   # rəng skalası\n",
    "    center=0,\n",
    "    linewidths=0.5,    # xətlərin qalınlığı\n",
    "    cbar_kws={\"shrink\": 0.8}  # rəng çubuğu kiçik olsun\n",
    ")\n",
    "plt.title(\"Correlation Matrix of All Numeric Features\", fontsize=14)\n",
    "plt.tight_layout()\n",
    "plt.show()"
   ]
  },
  {
   "cell_type": "code",
   "execution_count": 52,
   "id": "daa3d829-c013-44be-9dfa-872894df4ba6",
   "metadata": {},
   "outputs": [
    {
     "name": "stdout",
     "output_type": "stream",
     "text": [
      "\n",
      "\n"
     ]
    }
   ],
   "source": [
    "print(\"\\n\")"
   ]
  },
  {
   "cell_type": "markdown",
   "id": "d239be9d-ddd0-4881-87cb-f3a86d1d569b",
   "metadata": {},
   "source": [
    "**Statistical tests**"
   ]
  },
  {
   "cell_type": "markdown",
   "id": "99826d48-9a8e-462f-8dc7-7dde2b21ff80",
   "metadata": {},
   "source": [
    "1. Average Screen Time sütununun normal paylanıb paylanmadığını yoxlamaq üçün Shapiro-Wilk testi edirik."
   ]
  },
  {
   "cell_type": "code",
   "execution_count": 7,
   "id": "6535a04a-2782-441a-b09e-eedb861789c6",
   "metadata": {},
   "outputs": [
    {
     "name": "stdout",
     "output_type": "stream",
     "text": [
      "Shapiro-Wilk Test: stat=0.869, p=0.000\n",
      "Normal paylanmamışdır\n",
      "\n",
      "\n"
     ]
    }
   ],
   "source": [
    "import scipy.stats as stats\n",
    "from scipy.stats import shapiro\n",
    "stat,p=shapiro(df['Average Screen Time'])\n",
    "print('Shapiro-Wilk Test: stat=%.3f, p=%.3f'%(stat,p))\n",
    "\n",
    "if p>0.05:\n",
    "    print(\"Normal paylanmışdır\")\n",
    "else:\n",
    "    print(\"Normal paylanmamışdır\")\n",
    "print(\"\\n\")"
   ]
  },
  {
   "cell_type": "markdown",
   "id": "0b5408bd-bdc5-419b-9aef-e533ac6e0308",
   "metadata": {},
   "source": [
    "2. Productivity rate sütunu üçün Shapiro-Wilk testi edirik"
   ]
  },
  {
   "cell_type": "code",
   "execution_count": 8,
   "id": "23339b59-ef51-4192-8d6b-23859e8dc105",
   "metadata": {},
   "outputs": [
    {
     "name": "stdout",
     "output_type": "stream",
     "text": [
      "Shapiro-Wilk Test: stat=0.799, p=0.000\n",
      "Normal paylanmamışdır\n",
      "\n",
      "\n"
     ]
    }
   ],
   "source": [
    "from scipy.stats import shapiro\n",
    "stat,p=shapiro(df['Productivity rate'])\n",
    "print('Shapiro-Wilk Test: stat=%.3f, p=%.3f'%(stat,p))\n",
    "\n",
    "if p>0.05:\n",
    "    print(\"Normal paylanmışdır\")\n",
    "else:\n",
    "    print(\"Normal paylanmamışdır\")\n",
    "print(\"\\n\")"
   ]
  },
  {
   "cell_type": "markdown",
   "id": "b9d90025-2a14-40d9-a596-a96ceb29f8bc",
   "metadata": {},
   "source": [
    "2. Average Screen Time ilə productivity rate arasındaki əlaqəni test etmək üçün Spearman testindən istifadə edirik. Datalar normal paylansa idi Pearson testi də edə bilərdik"
   ]
  },
  {
   "cell_type": "code",
   "execution_count": 13,
   "id": "af627a9b-63b8-4140-8065-2022bc54b6fd",
   "metadata": {},
   "outputs": [
    {
     "name": "stdout",
     "output_type": "stream",
     "text": [
      "Spearman correlation: 0.02533593361478225\n",
      "p-value: 0.7217540551374086\n",
      "Nəticə statistik olaraq əhəmiyyətli deyil\n",
      "\n",
      "\n"
     ]
    }
   ],
   "source": [
    "from scipy.stats import spearmanr\n",
    "# Spearman korelyasiya testi\n",
    "corr, p_value = spearmanr(df['Average Screen Time'], df['Productivity rate'])\n",
    "\n",
    "print(\"Spearman correlation:\", corr)\n",
    "print(\"p-value:\", p_value)\n",
    "\n",
    "if p_value < 0.05:\n",
    "    print(\"Nəticə statistik olaraq əhəmiyyətlidir\")\n",
    "else:\n",
    "    print(\"Nəticə statistik olaraq əhəmiyyətli deyil\")\n",
    "print(\"\\n\")"
   ]
  },
  {
   "cell_type": "markdown",
   "id": "d6c2446e-6027-43dd-9db7-b42dc3acd8c8",
   "metadata": {},
   "source": [
    "3. Qadın və kişilərin  ekran vaxtlarının ortalamasını müqayisə etmək üçün İndependent samples t-test istifadə edə bilərik."
   ]
  },
  {
   "cell_type": "code",
   "execution_count": 15,
   "id": "d6bc4492-9b3a-4e55-8caf-670d6f57f24d",
   "metadata": {},
   "outputs": [
    {
     "name": "stdout",
     "output_type": "stream",
     "text": [
      "Independent t-test p-value: 0.4225192267472194\n",
      " Statistik cəhətdən əhəmiyyətli fərq yoxdur. Yəni,cins kateqoriyası ekran vaxtına təsir etmir.\n",
      "\n",
      "\n"
     ]
    }
   ],
   "source": [
    "from scipy.stats import ttest_ind\n",
    "\n",
    "male=df[df['Gender']=='Male']['Average Screen Time']\n",
    "female=df[df['Gender']=='Female']['Average Screen Time']\n",
    "stat,p=ttest_ind(male,female)\n",
    "\n",
    "print(\"Independent t-test p-value:\", p)\n",
    "if p<0.05:\n",
    "    print(\" Statistik cəhətədən əhəmiyyətli dərəcədə fərq var. Yəni,cins kateqoriyası ekran vaxtına təsir edir.\")\n",
    "else:\n",
    "    print(\" Statistik cəhətdən əhəmiyyətli fərq yoxdur. Yəni,cins kateqoriyası ekran vaxtına təsir etmir.\")\n",
    "print(\"\\n\")"
   ]
  },
  {
   "cell_type": "markdown",
   "id": "6de0d5f6-59d4-4520-b949-a7bbb1695859",
   "metadata": {},
   "source": [
    "4. Yaş qrupunun ekran vaxtına necə göstərdiyini yoxlamaq üçün Anova test istifadə edə bilərik"
   ]
  },
  {
   "cell_type": "code",
   "execution_count": 17,
   "id": "6415fdb7-1491-4922-9a64-50bc772b9da2",
   "metadata": {},
   "outputs": [
    {
     "name": "stdout",
     "output_type": "stream",
     "text": [
      "Anova p-value: nan\n",
      "Yaş qrupları arasında statistik cəhətdən əhəmiyyətli fərq yoxdur.\n"
     ]
    },
    {
     "name": "stderr",
     "output_type": "stream",
     "text": [
      "C:\\Users\\DELL\\AppData\\Local\\Temp\\ipykernel_97716\\459170017.py:8: SmallSampleWarning: One or more sample arguments is too small; all returned values will be NaN. See documentation for sample size requirements.\n",
      "  stat,p=f_oneway(age_18_24,age_25_34,age_35_44,age_45_above,age_18_below)\n"
     ]
    }
   ],
   "source": [
    "from scipy.stats import f_oneway\n",
    "\n",
    "age_18_24=df[df['Age Group']=='18-24']['Average Screen Time']\n",
    "age_25_34=df[df['Age Group']=='25-34']['Average Screen Time']\n",
    "age_35_44=df[df['Age Group']=='35-44']['Average Screen Time']\n",
    "age_45_above =df[df['Age Group']=='45 and above']['Average Screen Time']\n",
    "age_18_below =df[df['Age Group']=='18 and below']['Average Screen Time']\n",
    "stat,p=f_oneway(age_18_24,age_25_34,age_35_44,age_45_above,age_18_below)\n",
    "\n",
    "print(\"Anova p-value:\", p)\n",
    "if p<0.05:\n",
    "    print(\"Yaş qrupları arasında statistik cəhətdən əhəmiyyətli fərq vardır.\")\n",
    "else:\n",
    "    print(\"Yaş qrupları arasında statistik cəhətdən əhəmiyyətli fərq yoxdur.\")"
   ]
  },
  {
   "cell_type": "code",
   "execution_count": 18,
   "id": "f9f9d390-4956-4169-9407-f0a6f640f453",
   "metadata": {},
   "outputs": [
    {
     "name": "stdout",
     "output_type": "stream",
     "text": [
      "Age Group\n",
      "18-24           126\n",
      "Below 18         34\n",
      "25-34            24\n",
      "35-44            10\n",
      "45 and above      6\n",
      "Name: count, dtype: int64\n"
     ]
    }
   ],
   "source": [
    "print(df['Age Group'].value_counts())"
   ]
  },
  {
   "cell_type": "markdown",
   "id": "b969a7f1-7f97-46a9-bb29-9716016fc146",
   "metadata": {},
   "source": [
    "5. Productivity-nin screen time təsiri üçün Anova test"
   ]
  },
  {
   "cell_type": "code",
   "execution_count": 22,
   "id": "4b0f937d-24c5-4a88-b90a-96d10bc501ee",
   "metadata": {},
   "outputs": [
    {
     "name": "stdout",
     "output_type": "stream",
     "text": [
      "Anova p-value: 0.711348626310665\n",
      "Statistik cəhətdən əhəmiyyətli fərq yoxdur. Yəni,productivity rate screen time təsir etmir.\n"
     ]
    }
   ],
   "source": [
    "from scipy.stats import f_oneway\n",
    "\n",
    "moderately=df[df['Productivity']=='Moderately productive']['Average Screen Time']\n",
    "extremely=df[df['Productivity']=='Extremely productive, i efficiently complete my tasks']['Average Screen Time']\n",
    "unproductive=df[df['Productivity']=='Unproductive, i might not have completed the task and got carried away']['Average Screen Time']\n",
    "stat,p=f_oneway(moderately,extremely,unproductive)\n",
    "\n",
    "print(\"Anova p-value:\", p)\n",
    "if p<0.05:\n",
    "    print(\"Statistik cəhətdən əhəmiyyətli fərq vardır.Yəni, productivity rate screen time təsir edir.\")\n",
    "else:\n",
    "    print(\"Statistik cəhətdən əhəmiyyətli fərq yoxdur. Yəni,productivity rate screen time təsir etmir.\")"
   ]
  }
 ],
 "metadata": {
  "kernelspec": {
   "display_name": "Python 3 (ipykernel)",
   "language": "python",
   "name": "python3"
  },
  "language_info": {
   "codemirror_mode": {
    "name": "ipython",
    "version": 3
   },
   "file_extension": ".py",
   "mimetype": "text/x-python",
   "name": "python",
   "nbconvert_exporter": "python",
   "pygments_lexer": "ipython3",
   "version": "3.13.5"
  }
 },
 "nbformat": 4,
 "nbformat_minor": 5
}
